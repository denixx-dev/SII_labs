{
 "cells": [
  {
   "cell_type": "markdown",
   "id": "1448d8d5",
   "metadata": {},
   "source": [
    "Парная линейная регрессия\n",
    "Цель работы\n",
    "    Познакомиться с моделью парной линейной регрессии регрессии и методом градиентного спуска.\n",
    "\n",
    "Содержание работы\n",
    "Найти оценки параметров модели парной линейной регрессии прямыми вычислениями и палучить с помощью модели прогнозы результативного прознака.\n",
    "Найти оценки параметров модели парной линейной регрессии с использованием метода градиентного спуска.\n",
    "Оценить качество построенной модели, сравнив на графике обучающую выборку и прогнозы.\n",
    "Построить кривые обучения."
   ]
  },
  {
   "cell_type": "code",
   "execution_count": 17,
   "id": "c828a516",
   "metadata": {},
   "outputs": [],
   "source": [
    "#Загрузим необходимые библиотеки\n",
    "import numpy as np\n",
    "import pandas as pd\n",
    "import matplotlib.pyplot as plt"
   ]
  },
  {
   "cell_type": "code",
   "execution_count": 18,
   "id": "7ca5b3d4",
   "metadata": {},
   "outputs": [
    {
     "data": {
      "text/plain": [
       "array([3, 5, 7, 6, 9])"
      ]
     },
     "metadata": {},
     "output_type": "display_data"
    },
    {
     "data": {
      "text/plain": [
       "array([ 3,  7, 11, 14, 15])"
      ]
     },
     "metadata": {},
     "output_type": "display_data"
    }
   ],
   "source": [
    "#Исходные данные: x - расходы на рекламу, Y - объемы продаж\n",
    "x = np.array([3, 5, 7, 6, 9])\n",
    "Y = np.array([3, 7, 11, 14, 15])\n",
    "display(x, Y)"
   ]
  },
  {
   "cell_type": "code",
   "execution_count": 19,
   "id": "0876841d",
   "metadata": {},
   "outputs": [
    {
     "data": {
      "image/png": "[encoded data removed]",
      "text/plain": [
       "<Figure size 432x288 with 1 Axes>"
      ]
     },
     "metadata": {
      "needs_background": "light"
     },
     "output_type": "display_data"
    }
   ],
   "source": [
    "#Изобразим их на графике\n",
    "plt.figure()\n",
    "plt.scatter(x, Y)\n",
    "plt.show()"
   ]
  },
  {
   "cell_type": "code",
   "execution_count": 20,
   "id": "eda62fa2",
   "metadata": {},
   "outputs": [
    {
     "name": "stdout",
     "output_type": "stream",
     "text": [
      "Модель линейной регрессии: Y^ =  -2.0  +  2.0 * x\n"
     ]
    }
   ],
   "source": [
    "#Вычислим оценки коэффициентов парной линейной регрессии по формулам\n",
    "a1 = ((x - x.mean())*(Y - Y.mean())).mean()/((x - x.mean())**2).mean()\n",
    "a0 = Y.mean() - a1*x.mean()\n",
    "print(\"Модель линейной регрессии: Y^ = \", a0, \" + \", a1, \"* x\")"
   ]
  },
  {
   "cell_type": "code",
   "execution_count": 21,
   "id": "ed9bedbd",
   "metadata": {},
   "outputs": [
    {
     "name": "stdout",
     "output_type": "stream",
     "text": [
      "[3. 4. 5. 6. 7. 8. 9.]\n",
      "[ 4.  6.  8. 10. 12. 14. 16.]\n"
     ]
    }
   ],
   "source": [
    "#Дадим серию прогнозов Y^ для x от 3 до 9 с шагом 1\n",
    "x_space = np.linspace(3, 9, 7)\n",
    "print(x_space)\n",
    "Y_pred = a0 + a1*x_space\n",
    "print(Y_pred)"
   ]
  },
  {
   "cell_type": "code",
   "execution_count": 22,
   "id": "f8bdf836",
   "metadata": {},
   "outputs": [
    {
     "data": {
      "text/plain": [
       "[<matplotlib.lines.Line2D at 0x1a7786dd8b0>]"
      ]
     },
     "execution_count": 22,
     "metadata": {},
     "output_type": "execute_result"
    },
    {
     "data": {
      "image/png": "[encoded data removed]",
      "text/plain": [
       "<Figure size 432x288 with 1 Axes>"
      ]
     },
     "metadata": {
      "needs_background": "light"
     },
     "output_type": "display_data"
    }
   ],
   "source": [
    "#Изобразим на графике исходные данные и прогнозы \n",
    "fig  = plt.figure()\n",
    "ax = fig.add_axes([0.1, 0.1, 0.8, 0.8])\n",
    "ax.scatter(x, Y)\n",
    "ax.plot(x_space, Y_pred, 'r')\n",
    "#ax.scatter(x_space, Y_pred)"
   ]
  },
  {
   "cell_type": "code",
   "execution_count": 23,
   "id": "b7e6756b",
   "metadata": {},
   "outputs": [],
   "source": [
    "#Реализуем шаг градиентного спуска в модели парной лдинейной регрессии\n",
    "class SimpleRegression(object):\n",
    "    def __init__(self):\n",
    "        self.a0 = 0\n",
    "        self.a1 = 0\n",
    "    def predict(self, x):\n",
    "        return self.a0 + self.a1*x\n",
    "    def MSE(self, x, Y):\n",
    "        return ((self.predict(x)-Y)**2).mean()\n",
    "    def fit(self, x, Y):\n",
    "        alpha = 0.1\n",
    "        dT_a0 = -2*sum((Y -self.predict(x)))\n",
    "        dT_a1 = -2*sum((Y -self.predict(x))*x)\n",
    "        self.a0 -= alpha*dT_a0\n",
    "        self.a1 -= alpha*dT_a1"
   ]
  },
  {
   "cell_type": "code",
   "execution_count": 24,
   "id": "05a94fdd",
   "metadata": {},
   "outputs": [
    {
     "name": "stdout",
     "output_type": "stream",
     "text": [
      "0\n",
      "0\n",
      "0\n",
      "0\n",
      "0\n",
      "120.0\n"
     ]
    }
   ],
   "source": [
    "#Получим прогнозы до градиентного спуска с начальными значениями параметров\n",
    "regr = SimpleRegression()\n",
    "print(regr.predict(3))\n",
    "print(regr.predict(5))\n",
    "print(regr.predict(7))\n",
    "print(regr.predict(6))\n",
    "print(regr.predict(9))\n",
    "print(regr.MSE(x, Y))"
   ]
  },
  {
   "cell_type": "code",
   "execution_count": 25,
   "id": "2e5ddf12",
   "metadata": {
    "scrolled": true
   },
   "outputs": [
    {
     "data": {
      "text/plain": [
       "[<matplotlib.lines.Line2D at 0x1a778757a00>]"
      ]
     },
     "execution_count": 25,
     "metadata": {},
     "output_type": "execute_result"
    },
    {
     "data": {
      "image/png": "[encoded data removed]",
      "text/plain": [
       "<Figure size 432x288 with 1 Axes>"
      ]
     },
     "metadata": {
      "needs_background": "light"
     },
     "output_type": "display_data"
    }
   ],
   "source": [
    "#Выведем прогнозы до градиентного спуска на графике\n",
    "x_space = np.linspace(3, 9, 7)\n",
    "Y_pred = regr.predict(x_space)\n",
    "fig = plt.figure()\n",
    "ax = fig.add_axes([0.1, 0.1, 0.8, 0.8])\n",
    "ax.scatter(x, Y)\n",
    "ax.plot(x_space, Y_pred, 'r')"
   ]
  },
  {
   "cell_type": "code",
   "execution_count": 26,
   "id": "fdd288dc",
   "metadata": {},
   "outputs": [
    {
     "name": "stdout",
     "output_type": "stream",
     "text": [
      "MSE после первого шага градиентного спуска:  183892.0\n"
     ]
    },
    {
     "data": {
      "text/plain": [
       "[<matplotlib.lines.Line2D at 0x1a7787c7910>]"
      ]
     },
     "execution_count": 26,
     "metadata": {},
     "output_type": "execute_result"
    },
    {
     "data": {
      "image/png": "[encoded data removed]",
      "text/plain": [
       "<Figure size 432x288 with 1 Axes>"
      ]
     },
     "metadata": {
      "needs_background": "light"
     },
     "output_type": "display_data"
    }
   ],
   "source": [
    "#Реализуем шаг градиентного спуска\n",
    "regr.fit(x, Y)\n",
    "print(\"MSE после первого шага градиентного спуска: \", regr.MSE(x, Y))\n",
    "Y_pred = regr.predict(x_space)\n",
    "fig = plt.figure()\n",
    "ax = fig.add_axes([0.1, 0.1, 0.8, 0.8])\n",
    "ax.scatter(x, Y)\n",
    "ax.plot(x_space, Y_pred, 'r')"
   ]
  },
  {
   "cell_type": "code",
   "execution_count": 27,
   "id": "557573d9",
   "metadata": {},
   "outputs": [],
   "source": [
    "#Реализуем цикл градиентного спуска\n",
    "class SimpleRegression(object):\n",
    "    def __init__(self):\n",
    "        self.a0 = 0\n",
    "        self.a1 = 0\n",
    "    def predict(self, x):\n",
    "        return self.a0 + self.a1*x\n",
    "    def MSE(self, x, Y):\n",
    "        return ((Y - self.predict(x))**2).mean()\n",
    "    def MAE(self, x, Y):\n",
    "        return abs(Y - self.predict(x)).mean()\n",
    "    def MAPE(self, x, Y):\n",
    "        return abs((Y - self.predict(x))/Y).mean()\n",
    "    def fit(self, x, Y, alpha = 0.001, epsylon = 0.01, max_steps = 5000):\n",
    "        steps, errors = [], []\n",
    "        step = 0\n",
    "        for _ in range(max_steps):\n",
    "            dT_a0 = -2*sum((Y -self.predict(x)))\n",
    "            dT_a1 = -2*sum((Y -self.predict(x))*x)\n",
    "            self.a0 -= alpha*dT_a0\n",
    "            self.a1 -= alpha*dT_a1\n",
    "            new_error = self.MSE(x, Y)\n",
    "            step += 1\n",
    "            steps.append(step)\n",
    "            errors.append(new_error)\n",
    "            if new_error < epsylon:\n",
    "                break\n",
    "        return steps, errors"
   ]
  },
  {
   "cell_type": "code",
   "execution_count": 28,
   "id": "b67c924a",
   "metadata": {},
   "outputs": [],
   "source": [
    "#Запустим цикл градиентного спуска с заданной точностью 5\n",
    "regr = SimpleRegression()\n",
    "steps, errors = regr.fit(x, Y, alpha = 0.001, epsylon = 5)"
   ]
  },
  {
   "cell_type": "code",
   "execution_count": 29,
   "id": "bceab488",
   "metadata": {},
   "outputs": [
    {
     "name": "stdout",
     "output_type": "stream",
     "text": [
      "5.004697916218\n",
      "8.190462542210001\n",
      "11.376227168202002\n",
      "9.783344855206002\n",
      "14.561991794194002\n",
      "MSE после градиентного спуска:  4.709918696051655\n"
     ]
    },
    {
     "data": {
      "text/plain": [
       "[<matplotlib.lines.Line2D at 0x1a7788366d0>]"
      ]
     },
     "execution_count": 29,
     "metadata": {},
     "output_type": "execute_result"
    },
    {
     "data": {
      "image/png": "[encoded data removed]",
      "text/plain": [
       "<Figure size 432x288 with 1 Axes>"
      ]
     },
     "metadata": {
      "needs_background": "light"
     },
     "output_type": "display_data"
    }
   ],
   "source": [
    "#Выведем график  прогнозов и вычислим MSE\n",
    "print(regr.predict(3))\n",
    "print(regr.predict(5))\n",
    "print(regr.predict(7))\n",
    "print(regr.predict(6))\n",
    "print(regr.predict(9))\n",
    "print(\"MSE после градиентного спуска: \", regr.MSE(x, Y))\n",
    "Y_pred = regr.predict(x_space)\n",
    "fig = plt.figure()\n",
    "ax = fig.add_axes([0.1, 0.1, 0.8, 0.8])\n",
    "ax.scatter(x, Y)\n",
    "ax.plot(x_space, Y_pred, 'r')"
   ]
  },
  {
   "cell_type": "code",
   "execution_count": 30,
   "id": "7dc3b523",
   "metadata": {},
   "outputs": [
    {
     "data": {
      "text/plain": [
       "[<matplotlib.lines.Line2D at 0x1a77889b100>]"
      ]
     },
     "execution_count": 30,
     "metadata": {},
     "output_type": "execute_result"
    },
    {
     "data": {
      "image/png": "[encoded data removed]",
      "text/plain": [
       "<Figure size 432x288 with 1 Axes>"
      ]
     },
     "metadata": {
      "needs_background": "light"
     },
     "output_type": "display_data"
    }
   ],
   "source": [
    "#Выведем график изменения MSE в процессе градиентного спуска\n",
    "plt.figure()\n",
    "plt.plot(steps, errors)"
   ]
  },
  {
   "cell_type": "code",
   "execution_count": 31,
   "id": "1acf13e8",
   "metadata": {},
   "outputs": [],
   "source": [
    "#Запустим цикл градиентного спуска с заданной точностью 0.05\n",
    "regr = SimpleRegression()\n",
    "steps, errors = regr.fit(x, Y, alpha = 0.001, epsylon = 0.05)"
   ]
  },
  {
   "cell_type": "code",
   "execution_count": 32,
   "id": "7fc95a34",
   "metadata": {},
   "outputs": [
    {
     "name": "stdout",
     "output_type": "stream",
     "text": [
      "MSE после градиентного спуска:  4.000028517306817\n"
     ]
    },
    {
     "data": {
      "text/plain": [
       "[<matplotlib.lines.Line2D at 0x1a77895c2e0>]"
      ]
     },
     "execution_count": 32,
     "metadata": {},
     "output_type": "execute_result"
    },
    {
     "data": {
      "image/png": "[encoded data removed]",
      "text/plain": [
       "<Figure size 432x288 with 1 Axes>"
      ]
     },
     "metadata": {
      "needs_background": "light"
     },
     "output_type": "display_data"
    }
   ],
   "source": [
    "#Выведем график прогнозов и вычислим MSE\n",
    "print(\"MSE после градиентного спуска: \", regr.MSE(x, Y))\n",
    "Y_pred = regr.predict(x_space)\n",
    "fig = plt.figure()\n",
    "ax = fig.add_axes([0.1, 0.1, 0.8, 0.8])\n",
    "ax.scatter(x, Y)\n",
    "ax.plot(x_space, Y_pred, 'r')"
   ]
  },
  {
   "cell_type": "code",
   "execution_count": 33,
   "id": "174224d7",
   "metadata": {},
   "outputs": [
    {
     "data": {
      "text/plain": [
       "[<matplotlib.lines.Line2D at 0x1a7789ba7f0>]"
      ]
     },
     "execution_count": 33,
     "metadata": {},
     "output_type": "execute_result"
    },
    {
     "data": {
      "image/png": "[encoded data removed]",
      "text/plain": [
       "<Figure size 432x288 with 1 Axes>"
      ]
     },
     "metadata": {
      "needs_background": "light"
     },
     "output_type": "display_data"
    }
   ],
   "source": [
    "#Выведем график изменения MSE в процессе градиентного спуска\n",
    "plt.figure()\n",
    "plt.plot(steps, errors)"
   ]
  },
  {
   "cell_type": "code",
   "execution_count": 34,
   "id": "e36b747e",
   "metadata": {},
   "outputs": [
    {
     "name": "stdout",
     "output_type": "stream",
     "text": [
      "MSE после градиентного спуска:  4.1903709155046345\n"
     ]
    },
    {
     "data": {
      "text/plain": [
       "[<matplotlib.lines.Line2D at 0x1a7788ea520>]"
      ]
     },
     "execution_count": 34,
     "metadata": {},
     "output_type": "execute_result"
    },
    {
     "data": {
      "image/png": "[encoded data removed]",
      "text/plain": [
       "<Figure size 432x288 with 1 Axes>"
      ]
     },
     "metadata": {
      "needs_background": "light"
     },
     "output_type": "display_data"
    }
   ],
   "source": [
    "#Запустим цикл градиентного спуска с разными значениями скорости обучения alpha=0.0001, 0.01, 0.1, 1, 10, ..., \n",
    "#с различной допукстимой точностью epsylon = 0.001, 0.5, 5, с различным максимальным количеством шагов max_steps\n",
    "regr = SimpleRegression()\n",
    "steps, errors = regr.fit(x, Y, alpha = 0.0001, epsylon = 0.01, max_steps = 5000)\n",
    "print(\"MSE после градиентного спуска: \", regr.MSE(x, Y))\n",
    "Y_pred = regr.predict(x_space)\n",
    "plt.figure()\n",
    "plt.plot(steps, errors)"
   ]
  },
  {
   "cell_type": "markdown",
   "id": "5293159f",
   "metadata": {},
   "source": [
    "Загрузите файл Video Games.csv (с помощью pd.read_csv). \n",
    "\n",
    "Для 11 703 компьютерных игр известны платформа, год выхода, жанр, платформа, издатель, объемы продаж игры - отдельно для Северной Америки, Европы, Японии и других регионов.\n",
    "\n",
    "В обучающей выборке для каждой игры известны следующие поля:\n",
    "\n",
    "Name — название игры;\n",
    "Platform — платформа (PC; DS; GBA; PS; PS2; PS3; PSP; Wii; XB или X360);\n",
    "Year_of_Release — год выпуска;\n",
    "Genre — жанр (Action; Adventure; Fighting; Platform; Puzzle; Racing; Role-Playing; Shooter; Simulation; Sports или Strategy; Misc означает все остальные жанры);\n",
    "Publisher — издатель;\n",
    "NA_Sales — объемы продаж игры в Северной Америке (в млн долл. США);\n",
    "EU_Sales — объемы продаж игры в Европе(в млн долл. США);\n",
    "Other_Sales — объемы продаж игры в других регионах (в млн долл. США);\n",
    "Critic_Score — сумма оценок, данных игре штатными критиками сайта Metacritic;\n",
    "Critic_Count — количество штатных критиков, давших оценки игре;\n",
    "User_Score — сумма оценок, данных игре игры пользователями сайта Metacritic;\n",
    "User_Count — количество пользователей, давших оценки;\n",
    "Developer — разработчик;\n",
    "Rating — рейтинг игры (AO — только для взрослых; 18+ M — только для лиц старше 18 лет; 17+ — только для лиц старше 17 лет; E10+ — для всех старше 10 лет; E — для всех; EC — для детей младшего возраста; RP — рейтинг не присвоен);\n",
    "JP_Sales — объемы продаж игры в Японии (в млн долл. США).\n",
    "\n",
    "Требуется построить модель, предсказывающую объем продаж игры в Японии. \n",
    "\n",
    "Япония - достаточно специфичная страна с точки зрения индустрии развлечений. К тому же государство активно защищает своих производителей, что не способствует импорту. Перед издателями компьютерных игр всегда стоит вопрос: стоит ли игру переводить, подгонять под местный менталитет и платить для входа на японский рынок. Чтобы это понять, следует оценить, на какой кусок пирога можно вообще в Японии рассчитывать. Один из вариантов это сделать – по истории продаж в других регионах. Если игра еще в разработке, за историю продаж можно считать прогнозы: Европа и Америка не такие непредсказуемые рынки, как Япония.\n",
    "\n",
    "Выберите в качестве результативного признака JP_Sales. В качестве факторных признаков выберите все числовые признаки. Также можно для категориальных признаков (Platform, Genre, возможно, Publisher) ввести индикаторы (с помощью sklearn.preprocessing.OneHotEncoder).\n",
    "\n",
    "Вычислите определитель матрицы (x_T*x).\n",
    "\n",
    "Вычислите вектор оценок коэффициентов по формуле a^ = (x_T*x)^(-1)*x_T*Y.\n",
    "\n",
    "На основе класса SimpleRegression (в котором x - это одномерный массив значений факторного признака) создайте класс MultipleRegression, который реализует градиентный спуск для случая, когда x является двумерным массивом, содержащим в каждой строке (для кафдой компьютерной игры) значения нескольких факторных признаков.\n",
    "\n",
    "Обучите модель с помощью метода MultipleRegression.fit, дайте прогнозы JP_Sales^ для каждой игры с помощью MultipleRegression.predict, вычислите ошибки MAE и MAPE.\n",
    "\n",
    "Попробуйте расширить набор факторных признаков, добавив логарифмы, квадраты, кубы"
   ]
  },
  {
   "cell_type": "code",
   "execution_count": 35,
   "id": "51eeea4a",
   "metadata": {},
   "outputs": [],
   "source": [
    "from sklearn.preprocessing import OneHotEncoder\n",
    "from sklearn.preprocessing import OneHotEncoder\n",
    "videogames = pd.read_csv(r\"Video Games.csv\", index_col = 'id')\n",
    "videogames.head()\n",
    "Y = videogames['jp_sales']\n",
    "\n",
    "x = videogames.drop('jp_sales', axis=1)\n",
    "\n",
    "x = pd.concat([x, pd.get_dummies(x['platform'], drop_first=True), pd.get_dummies(x['genre'], drop_first=True), pd.get_dummies(x['publisher'], drop_first=True)], axis = 1)\n",
    "x = x.drop(['platform', 'genre', 'publisher'], axis = 1)\n",
    "Y.head()\n",
    "x.head()\n",
    "x_ = x\n",
    "x_.insert(0, \"intercept\", np.ones((x.shape[0],1)), allow_duplicates=True)                "
   ]
  },
  {
   "cell_type": "code",
   "execution_count": 36,
   "id": "caef5b72",
   "metadata": {},
   "outputs": [],
   "source": [
    "\n",
    "#Вычислим определитель (x_T*x).\n"
   ]
  },
  {
   "cell_type": "code",
   "execution_count": 37,
   "id": "9ca92562",
   "metadata": {},
   "outputs": [],
   "source": [
    "#Вычислим вектор оценок коэффициентов по формуле a^ = (x_T*x)^(-1)*x_T*Y.\n"
   ]
  },
  {
   "cell_type": "code",
   "execution_count": 38,
   "id": "33012519",
   "metadata": {},
   "outputs": [],
   "source": [
    "#Реализуем метод градиентного спуска в модеоли множественной регрессии\n"
   ]
  },
  {
   "cell_type": "code",
   "execution_count": null,
   "id": "390e1781",
   "metadata": {},
   "outputs": [],
   "source": []
  },
  {
   "cell_type": "code",
   "execution_count": null,
   "id": "18aeb8fe",
   "metadata": {},
   "outputs": [],
   "source": []
  },
  {
   "cell_type": "code",
   "execution_count": null,
   "id": "fe691e15",
   "metadata": {},
   "outputs": [],
   "source": []
  },
  {
   "cell_type": "code",
   "execution_count": null,
   "id": "2bf97224",
   "metadata": {},
   "outputs": [],
   "source": []
  }
 ],
 "metadata": {
  "kernelspec": {
   "display_name": "Python 3 (ipykernel)",
   "language": "python",
   "name": "python3"
  },
  "language_info": {
   "codemirror_mode": {
    "name": "ipython",
    "version": 3
   },
   "file_extension": ".py",
   "mimetype": "text/x-python",
   "name": "python",
   "nbconvert_exporter": "python",
   "pygments_lexer": "ipython3",
   "version": "3.9.12"
  }
 },
 "nbformat": 4,
 "nbformat_minor": 5
}
