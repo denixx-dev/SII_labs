{
 "cells": [
  {
   "cell_type": "code",
   "execution_count": 1,
   "id": "73ec807c",
   "metadata": {},
   "outputs": [],
   "source": [
    "#Загрузим необходимые библиотеки\n",
    "import numpy as np\n",
    "import pandas as pd\n",
    "import matplotlib.pyplot as plt\n",
    "# from sklearn.model_selection import train_test_split"
   ]
  },
  {
   "cell_type": "code",
   "execution_count": 47,
   "id": "11276174",
   "metadata": {},
   "outputs": [],
   "source": [
    "#Реализуем цикл градиентного спуска\n",
    "class LogisticRegressionGD(object):\n",
    "    def __init__(self):\n",
    "        self.a = np.zeros(2).reshape(1, 2)\n",
    "        \n",
    "    def sigmoid(self, x):\n",
    "        return 1/(1 + np.exp(-x @ self.a))\n",
    "    \n",
    "    def predict(self, x):\n",
    "        return self.sigmoid(x)\n",
    "    \n",
    "    def coefs(self):\n",
    "        return self.a\n",
    "    \n",
    "    def LogLikelihood(self, x, Y):\n",
    "        n = len(Y)\n",
    "        # loss = -(1/n) * np.sum(Y * np.log(self.predict(x)) + (1 - Y) * np.log(1 - self.predict(x) + 1e-7))\n",
    "        loss = -np.mean(Y * np.log(self.predict(x) + 1e-7) + (1 - Y + 1e-7) * np.log(1 - self.predict(x) + 1e-7))\n",
    "        return loss\n",
    "    \n",
    "    def CrossEntropy(self, x, Y):\n",
    "        # return (-Y*np.log(self.predict(x)) - (1- Y)*np.log(1 - self.predict(x) + 1e-7)).sum()\n",
    "        return (-Y*np.log(self.predict(x) + 1e-7) - (1 - Y)*np.log(1 - self.predict(x) + 1e-7)).sum()\n",
    "\n",
    "    def accuracy(self, x, Y):\n",
    "        Y_Pred = self.predict(x)\n",
    "        \n",
    "        Y_Pred[Y_Pred > 0.5] = 1\n",
    "        Y_Pred[Y_Pred <= 0.5] = 0\n",
    "        \n",
    "        all_pred = len(Y)\n",
    "\n",
    "        correct_pred = 0\n",
    "        for value1, value2 in zip(Y, Y_Pred):\n",
    "            if value1 == value2:\n",
    "                correct_pred += 1\n",
    "            \n",
    "        return correct_pred / all_pred \n",
    "    \n",
    "    def f1score(self, x, Y):\n",
    "        Y_Pred = self.predict(x)\n",
    "        \n",
    "        Y_Pred[Y_Pred > 0.5] = 1\n",
    "        Y_Pred[Y_Pred <= 0.5] = 0\n",
    "        \n",
    "        tp = np.sum(Y*Y_Pred)\n",
    "        tn = np.sum((1-Y)*(1-Y_Pred))\n",
    "        fp = np.sum((1-Y)*Y_Pred)\n",
    "        fn = np.sum(Y*(1-Y_Pred))\n",
    "\n",
    "        p = tp / (tp + fp)\n",
    "        r = tp / (tp + fn)\n",
    "\n",
    "        f1 = 2*p*r / (p+r)\n",
    "        \n",
    "        return f1\n",
    "    \n",
    "    def fit(self, x, Y, alpha = 0.001, epsylon = 0.01, max_steps = 5000, Rtype = \"LL\"):\n",
    "        self.a = np.zeros (x.shape[1]).reshape(x.shape[1],1)\n",
    "        steps, errors = [], []\n",
    "        step = 0\n",
    "        for _ in range(max_steps):\n",
    "            if Rtype == \"LL\":\n",
    "                new_error = self.LogLikelihood(x, Y)\n",
    "                dT_a = np.mean((x.T@(Y - self.predict(x))), axis=1)\n",
    "                dT_a = dT_a.reshape(-1, 1)\n",
    "                self.a += alpha*dT_a\n",
    "            elif Rtype == \"CE\":\n",
    "                new_error = self.CrossEntropy(x, Y)\n",
    "                #display(new_error)\n",
    "                dT_a = -x.T @(Y - self.predict(x))\n",
    "                self.a -= alpha*dT_a\n",
    "                \n",
    "            step += 1\n",
    "            steps.append(step)\n",
    "            errors.append(new_error)\n",
    "\n",
    "        return steps, errors"
   ]
  },
  {
   "cell_type": "code",
   "execution_count": 48,
   "id": "5bf48389",
   "metadata": {},
   "outputs": [],
   "source": [
    "insclass = pd.read_csv(r\"insclass_train.csv\", delimiter=\",\").fillna(0)\n",
    "insclass.head()\n",
    "\n",
    "Y = insclass['target']\n",
    "x = insclass.drop('target', axis = 1)\n",
    "\n",
    "# x = pd.concat([x, pd.get_dummies(x['variable_1'], drop_first=True),\n",
    "#                pd.get_dummies(x['variable_5'], drop_first=True),\n",
    "#                pd.get_dummies(x['variable_20'], drop_first=True),\n",
    "#                pd.get_dummies(x['variable_21'], drop_first=True),\n",
    "#                pd.get_dummies(x['variable_22'], drop_first=True),\n",
    "#                pd.get_dummies(x['variable_28'], drop_first=True)], axis = 1)\n",
    "\n",
    "x = x.drop(['variable_1', 'variable_5', 'variable_20', 'variable_21', 'variable_22', 'variable_28'], axis = 1)"
   ]
  },
  {
   "cell_type": "code",
   "execution_count": 49,
   "id": "07c7b84c",
   "metadata": {},
   "outputs": [],
   "source": [
    "# x.dtypes"
   ]
  },
  {
   "cell_type": "code",
   "execution_count": 50,
   "id": "aaf3eee4",
   "metadata": {},
   "outputs": [],
   "source": [
    "# x_train, x_test, Y_train, Y_test = train_test_split(x, Y, test_size=0.3, random_state=42)"
   ]
  },
  {
   "cell_type": "markdown",
   "id": "5e4d302b",
   "metadata": {},
   "source": [
    "Реализовать класс модели логистической регрессии с использованием:\n",
    "а) максимизации логарифмического правдоподобия методом градиентного подъема\n",
    "б) минимизации функции потерь (кросс-энтропии) методом градиентного спуска\n",
    "\n",
    "Сравнить результаты (время исполнения и достигнутые значения accuracy и f1) в случаях а и б при одном и том же числе шагов и скорости обучения.\n",
    "\n"
   ]
  },
  {
   "cell_type": "code",
   "execution_count": 51,
   "id": "6194236a",
   "metadata": {},
   "outputs": [
    {
     "data": {
      "text/plain": [
       "(151406, 23)"
      ]
     },
     "execution_count": 51,
     "metadata": {},
     "output_type": "execute_result"
    }
   ],
   "source": [
    "# x_ = x.copy()\n",
    "import time\n",
    "\n",
    "intercept = np.ones((x.shape[0], 1))\n",
    "x_ = np.array(pd.DataFrame(np.concatenate((intercept, x), axis = 1)))\n",
    "x_.shape"
   ]
  },
  {
   "cell_type": "code",
   "execution_count": 52,
   "id": "c6cb8bf4",
   "metadata": {},
   "outputs": [],
   "source": [
    "Y = np.array(Y, dtype=\"float32\")\n",
    "x_ = np.array(x_, dtype=\"float32\")\n",
    "Y = Y.reshape(-1, 1)"
   ]
  },
  {
   "cell_type": "markdown",
   "id": "21196df6",
   "metadata": {},
   "source": [
    "## Loglikeklihood"
   ]
  },
  {
   "cell_type": "code",
   "execution_count": 53,
   "id": "b39931e1",
   "metadata": {},
   "outputs": [
    {
     "name": "stderr",
     "output_type": "stream",
     "text": [
      "C:\\Users\\denis\\AppData\\Local\\Temp\\ipykernel_2968\\3624431500.py:7: RuntimeWarning: overflow encountered in exp\n",
      "  return 1/(1 + np.exp(-x @ self.a))\n"
     ]
    },
    {
     "data": {
      "text/plain": [
       "'Время обучения: '"
      ]
     },
     "metadata": {},
     "output_type": "display_data"
    },
    {
     "data": {
      "text/plain": [
       "753.9616281986237"
      ]
     },
     "metadata": {},
     "output_type": "display_data"
    },
    {
     "data": {
      "text/plain": [
       "'сек.'"
      ]
     },
     "metadata": {},
     "output_type": "display_data"
    }
   ],
   "source": [
    "start_time = time.time()\n",
    "regr = LogisticRegressionGD()\n",
    "steps, errors =  regr.fit(x_, Y, alpha = 1e-10, epsylon = 0.01, max_steps = 10000, Rtype = \"LL\") \n",
    "\n",
    "display('Время обучения: ', time.time() - start_time, 'сек.')"
   ]
  },
  {
   "cell_type": "code",
   "execution_count": 54,
   "id": "1cb46b41",
   "metadata": {
    "scrolled": true
   },
   "outputs": [
    {
     "name": "stderr",
     "output_type": "stream",
     "text": [
      "C:\\Users\\denis\\AppData\\Local\\Temp\\ipykernel_2968\\3624431500.py:7: RuntimeWarning: overflow encountered in exp\n",
      "  return 1/(1 + np.exp(-x @ self.a))\n"
     ]
    },
    {
     "data": {
      "text/plain": [
       "<matplotlib.legend.Legend at 0x2d2016c0150>"
      ]
     },
     "execution_count": 54,
     "metadata": {},
     "output_type": "execute_result"
    },
    {
     "data": {
      "image/png": "[encoded data removed]",
      "text/plain": [
       "<Figure size 640x480 with 1 Axes>"
      ]
     },
     "metadata": {},
     "output_type": "display_data"
    }
   ],
   "source": [
    "Y_Pred = regr.predict(x_)\n",
    "\n",
    "plt.scatter(x_[:, -1], Y, label=\"true\")\n",
    "plt.scatter(x_[:, -1], Y_Pred, label=\"pred\", linewidth=1e-20)\n",
    "plt.legend()\n"
   ]
  },
  {
   "cell_type": "code",
   "execution_count": 55,
   "id": "de3f3b73",
   "metadata": {
    "scrolled": true
   },
   "outputs": [
    {
     "name": "stderr",
     "output_type": "stream",
     "text": [
      "C:\\Users\\denis\\AppData\\Local\\Temp\\ipykernel_2968\\3624431500.py:7: RuntimeWarning: overflow encountered in exp\n",
      "  return 1/(1 + np.exp(-x @ self.a))\n"
     ]
    },
    {
     "name": "stdout",
     "output_type": "stream",
     "text": [
      "Accuracy: 0.9123878842318006\n",
      "F1 Score: 0.1929792541217984\n"
     ]
    }
   ],
   "source": [
    "# Вычислим метрики\n",
    "print(\"Accuracy:\", regr.accuracy(x_, Y))\n",
    "print(\"F1 Score:\", regr.f1score(x_, Y))"
   ]
  },
  {
   "cell_type": "code",
   "execution_count": 56,
   "id": "110d2ef9",
   "metadata": {},
   "outputs": [
    {
     "data": {
      "text/plain": [
       "[<matplotlib.lines.Line2D at 0x2d20177dd50>]"
      ]
     },
     "execution_count": 56,
     "metadata": {},
     "output_type": "execute_result"
    },
    {
     "data": {
      "image/png": "[encoded data removed]",
      "text/plain": [
       "<Figure size 640x480 with 1 Axes>"
      ]
     },
     "metadata": {},
     "output_type": "display_data"
    }
   ],
   "source": [
    "# График изменения значения ошибки в процессе тренировки\n",
    "plt.plot(steps, errors)"
   ]
  },
  {
   "cell_type": "markdown",
   "id": "33d71631",
   "metadata": {},
   "source": [
    "## Cross entropy"
   ]
  },
  {
   "cell_type": "code",
   "execution_count": 57,
   "id": "35df365b",
   "metadata": {},
   "outputs": [
    {
     "name": "stderr",
     "output_type": "stream",
     "text": [
      "C:\\Users\\denis\\AppData\\Local\\Temp\\ipykernel_2968\\3624431500.py:7: RuntimeWarning: overflow encountered in exp\n",
      "  return 1/(1 + np.exp(-x @ self.a))\n"
     ]
    },
    {
     "data": {
      "text/plain": [
       "'Время обучения: '"
      ]
     },
     "metadata": {},
     "output_type": "display_data"
    },
    {
     "data": {
      "text/plain": [
       "790.6133117675781"
      ]
     },
     "metadata": {},
     "output_type": "display_data"
    },
    {
     "data": {
      "text/plain": [
       "'сек.'"
      ]
     },
     "metadata": {},
     "output_type": "display_data"
    }
   ],
   "source": [
    "start_time = time.time()\n",
    "regr = LogisticRegressionGD()\n",
    "steps, errors =  regr.fit(x_, Y, alpha = 1e-10, epsylon = 0.01, max_steps = 10000, Rtype = \"CE\") \n",
    "\n",
    "display('Время обучения: ', time.time() - start_time, 'сек.')"
   ]
  },
  {
   "cell_type": "code",
   "execution_count": 58,
   "id": "ff3b4aab",
   "metadata": {},
   "outputs": [
    {
     "name": "stderr",
     "output_type": "stream",
     "text": [
      "C:\\Users\\denis\\AppData\\Local\\Temp\\ipykernel_2968\\3624431500.py:7: RuntimeWarning: overflow encountered in exp\n",
      "  return 1/(1 + np.exp(-x @ self.a))\n"
     ]
    },
    {
     "data": {
      "text/plain": [
       "<matplotlib.legend.Legend at 0x2d2016ff5d0>"
      ]
     },
     "execution_count": 58,
     "metadata": {},
     "output_type": "execute_result"
    },
    {
     "data": {
      "image/png": "[encoded data removed]",
      "text/plain": [
       "<Figure size 640x480 with 1 Axes>"
      ]
     },
     "metadata": {},
     "output_type": "display_data"
    }
   ],
   "source": [
    "Y_Pred = regr.predict(x_)\n",
    "\n",
    "plt.scatter(x_[:, -1], Y, label=\"true\")\n",
    "plt.scatter(x_[:, -1], Y_Pred, label=\"pred\", linewidth=1e-20)\n",
    "plt.legend()"
   ]
  },
  {
   "cell_type": "code",
   "execution_count": 59,
   "id": "8cde3184",
   "metadata": {},
   "outputs": [
    {
     "name": "stderr",
     "output_type": "stream",
     "text": [
      "C:\\Users\\denis\\AppData\\Local\\Temp\\ipykernel_2968\\3624431500.py:7: RuntimeWarning: overflow encountered in exp\n",
      "  return 1/(1 + np.exp(-x @ self.a))\n"
     ]
    },
    {
     "name": "stdout",
     "output_type": "stream",
     "text": [
      "Accuracy: 0.9123878842318006\n",
      "F1 Score: 0.1929792541217984\n"
     ]
    }
   ],
   "source": [
    "# Вычислим метрики\n",
    "print(\"Accuracy:\", regr.accuracy(x_, Y))\n",
    "print(\"F1 Score:\", regr.f1score(x_, Y))"
   ]
  },
  {
   "cell_type": "code",
   "execution_count": 60,
   "id": "d125fac3",
   "metadata": {},
   "outputs": [
    {
     "data": {
      "text/plain": [
       "[<matplotlib.lines.Line2D at 0x2d201912ad0>]"
      ]
     },
     "execution_count": 60,
     "metadata": {},
     "output_type": "execute_result"
    },
    {
     "data": {
      "image/png": "[encoded data removed]",
      "text/plain": [
       "<Figure size 640x480 with 1 Axes>"
      ]
     },
     "metadata": {},
     "output_type": "display_data"
    }
   ],
   "source": [
    "# График изменения значения ошибки в процессе тренировки\n",
    "plt.plot(steps, errors)"
   ]
  },
  {
   "cell_type": "markdown",
   "id": "f0807362",
   "metadata": {},
   "source": [
    "Реализовать расчеты способами а и б для набора данных из файла insclass_train.csv/\n",
    "Для 151 406 договоров страхования транспортных средств известны значения ряда признаков, в том числе пол, возраст, стаж вождения и коэффициент бонус-малус водителя, тип, марка, модель, год выпуска, страна – производитель, мощность и объем двигателя, а также признак target, равный 1, если заключение договора с клиентом является рисковым, и 0 в противном случае (файл insclass_train.csv).\n",
    "\n",
    "Требуется построить модель, предсказывающую значение признака target для 22 624 договоров из тестового набора данных (файл insclass_test.csv).\n",
    "\n",
    "В обучающем наборе данных для каждого договора известны следующие поля:\n",
    "\n",
    "variable_1 - агрегированный коэффициент бонус-малус (повышающий или понижающий стоимость полиса в зависимости от аварийности в предыдущие периоды);\n",
    "variable_2 - индикатор расторжения договора по инициативе страхователя (клиента);\n",
    "variable_3 - индикатор расторжения договора по инициативе страховщика (страховой компании);\n",
    "variable_4 - идентификатор года выпуска транспортного средства;\n",
    "variable_5 - идентификатор страны - производителя транспортного средства;\n",
    "variable_6 - мощность двигателя в лошадиных силах;\n",
    "variable_7 - объем двигателя в куб. см;\n",
    "variable_8 - идентификатор стороны расположения руля (левый или правый);\n",
    "variable_9 - пробег транспортного средства, покрываемый гарантией производителя;\n",
    "variable_10 - индикатор действия гарантии на транспортное средство;\n",
    "variable_11 - \"мультидрайв\" - индикатор допуска к управлению транспортным средством более одного водителя;\n",
    "variable_12 - возраст транспортного средства (в мес.);\n",
    "variable_13 - возраст водителя с максимальным стажем;\n",
    "variable_14 - коэффициент возраст-стаж;\n",
    "variable_15 - коэффициент краткосрочности;\n",
    "variable_16 - коэффициент мощности;\n",
    "variable_17 - коэффициент \"мультидрайв\";\n",
    "variable_18 - территориальный коэффициент;\n",
    "variable_19 - коэффициент \"КНДР\";\n",
    "variable_20 - идентификатор канала продаж;\n",
    "variable_21 - марка транспортного средства;\n",
    "variable_22 - модель транспортного средства;\n",
    "variable_23 - индикатор отечественных транспортных средств;\n",
    "variable_24 - пол водителя с максимальным коэффициентом \"возраст-стаж\";\n",
    "variable_25 - индикатор пролонгации;\n",
    "variable_26 - индикатор совпадения собственника транспортного средства и водителя;\n",
    "variable_27 - стаж водителя с максимальным коэффициентом \"возраст-стаж\";\n",
    "variable_28 - тип транспортного средства;\n",
    "target - класс риска, равный 1, если заключение договора с клиентом является рисковым, и 0 в противном случае."
   ]
  },
  {
   "cell_type": "markdown",
   "id": "6b0d433f",
   "metadata": {},
   "source": [
    "## Это не смотри"
   ]
  },
  {
   "cell_type": "code",
   "execution_count": 61,
   "id": "7c3e78f9",
   "metadata": {},
   "outputs": [],
   "source": [
    "class MyLogisticRegression:\n",
    "    def __init__(self, learning_rate=0.01, max_iterations=1000):\n",
    "        '''Initialize variables\n",
    "        Args:\n",
    "            learning_rate  : Learning Rate\n",
    "            max_iterations : Max iterations for training weights\n",
    "        '''\n",
    "        # Initialising all the parameters\n",
    "        self.learning_rate  = learning_rate\n",
    "        self.max_iterations = max_iterations\n",
    "        self.likelihoods    = []\n",
    "        \n",
    "        # Define epsilon because log(0) is not defined\n",
    "        self.eps = 1e-7\n",
    "\n",
    "    def sigmoid(self, z):\n",
    "        '''Sigmoid function: f:R->(0,1)\n",
    "        Args:\n",
    "            z : A numpy array (num_samples,)\n",
    "        Returns:\n",
    "            A numpy array where sigmoid function applied to every element\n",
    "        '''\n",
    "        ### START CODE HERE\n",
    "        sig_z = (1/(1+np.exp(-z)))\n",
    "        ### END CODE HERE\n",
    "        \n",
    "        assert (z.shape==sig_z.shape), 'Error in sigmoid implementation. Check carefully'\n",
    "        return sig_z\n",
    "    \n",
    "    def log_likelihood(self, y_true, y_pred):\n",
    "        '''Calculates maximum likelihood estimate\n",
    "        Remember: y * log(yh) + (1-y) * log(1-yh)\n",
    "        Note: Likelihood is defined for multiple classes as well, but for this dataset\n",
    "        we only need to worry about binary/bernoulli likelihood function\n",
    "        Args:\n",
    "            y_true : Numpy array of actual truth values (num_samples,)\n",
    "            y_pred : Numpy array of predicted values (num_samples,)\n",
    "        Returns:\n",
    "            Log-likelihood, scalar value\n",
    "        '''\n",
    "        # Fix 0/1 values in y_pred so that log is not undefined\n",
    "        y_pred = np.maximum(np.full(y_pred.shape, self.eps), np.minimum(np.full(y_pred.shape, 1-self.eps), y_pred))\n",
    "        \n",
    "        ### START CODE HERE\n",
    "        likelihood = (y_true*np.log(y_pred)+(1-y_true)*np.log(1-y_pred))\n",
    "    \n",
    "        ### END CODE HERE\n",
    "        \n",
    "        return np.mean(likelihood)\n",
    "    \n",
    "    def fit(self, X, y):\n",
    "        '''Trains logistic regression model using gradient ascent\n",
    "        to gain maximum likelihood on the training data\n",
    "        Args:\n",
    "            X : Numpy array (num_examples, num_features)\n",
    "            y : Numpy array (num_examples, )\n",
    "        Returns: VOID\n",
    "        '''\n",
    "        \n",
    "        num_examples = X.shape[0]\n",
    "        num_features = X.shape[1]\n",
    "        \n",
    "        ### START CODE HERE\n",
    "        \n",
    "        # Initialize weights with appropriate shape\n",
    "        self.weights = np.zeros((X.shape[1]))\n",
    "        # print(\"Z\",self.weights.shape)\n",
    "        # print(X.shape)\n",
    "        \n",
    "        \n",
    "        # Perform gradient ascent\n",
    "        for i in range(self.max_iterations):\n",
    "            # Define the linear hypothesis(z) first\n",
    "            # HINT: what is our hypothesis function in linear regression, remember?\n",
    "            \n",
    "            z  = np.dot(X,self.weights)\n",
    "          \n",
    "            # Output probability value by appplying sigmoid on z\n",
    "            y_pred = self.sigmoid(z)\n",
    "            \n",
    "            \n",
    "            \n",
    "            # Calculate the gradient values\n",
    "            # This is just vectorized efficient way of implementing gradient. Don't worry, we will discuss it later.\n",
    "            gradient = np.mean((y-y_pred)*X.T, axis=1)\n",
    "            \n",
    "            # Update the weights\n",
    "            # Caution: It is gradient ASCENT not descent\n",
    "            self.weights +=  self.learning_rate*gradient\n",
    "            \n",
    "            # Calculating log likelihood\n",
    "            likelihood = self.log_likelihood(y,y_pred)\n",
    "\n",
    "            self.likelihoods.append(likelihood)\n",
    "    \n",
    "        ### END CODE HERE\n",
    "    \n",
    "    def predict_proba(self,X):\n",
    "        '''Predict probabilities for given X.\n",
    "        Remember sigmoid returns value between 0 and 1.\n",
    "        Args:\n",
    "            X : Numpy array (num_samples, num_features)\n",
    "        Returns:\n",
    "            probabilities: Numpy array (num_samples,)\n",
    "        '''\n",
    "        if self.weights is None:\n",
    "            raise Exception(\"Fit the model before prediction\")\n",
    "      \n",
    "        ### START CODE HERE\n",
    "               \n",
    "        z = np.dot(X,self.weights)\n",
    "        probabilities = self.sigmoid(z)\n",
    "        # probabilities.reshape(probabilities.shape[0],1)\n",
    "        \n",
    "        ### END CODE HERE\n",
    "        \n",
    "        return probabilities\n",
    "    \n",
    "    def predict(self, X, threshold=0.5):\n",
    "        '''Predict/Classify X in classes\n",
    "        Args:\n",
    "            X         : Numpy array (num_samples, num_features)\n",
    "            threshold : scalar value above which prediction is 1 else 0\n",
    "        Returns:\n",
    "            binary_predictions : Numpy array (num_samples,)\n",
    "        '''\n",
    "        # Thresholding probability to predict binary values\n",
    "        \n",
    "        binary_predictions = np.array(list(map(lambda x: 1 if x>threshold else 0, self.predict_proba(X))))\n",
    "        \n",
    "        return binary_predictions"
   ]
  }
 ],
 "metadata": {
  "kernelspec": {
   "display_name": "Python 3 (ipykernel)",
   "language": "python",
   "name": "python3"
  },
  "language_info": {
   "codemirror_mode": {
    "name": "ipython",
    "version": 3
   },
   "file_extension": ".py",
   "mimetype": "text/x-python",
   "name": "python",
   "nbconvert_exporter": "python",
   "pygments_lexer": "ipython3",
   "version": "3.11.3"
  }
 },
 "nbformat": 4,
 "nbformat_minor": 5
}
